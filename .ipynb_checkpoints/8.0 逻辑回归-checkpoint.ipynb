{
 "cells": [
  {
   "cell_type": "markdown",
   "metadata": {},
   "source": [
    "# 1.0classification problems（分类问题）\n",
    "<font size=5>\n",
    "    <br>例如1.0垃圾邮件的分类2.0网上交易欺诈性3.0肿瘤的恶性和良性。\n",
    "    <br>在分类问题中我们要预测的y值为0或1(negative class or postive class),后面我们也可能遇到多值分类问题\n",
    "</font>\n",
    "\n",
    "![title](106PNG.png)"
   ]
  }
 ],
 "metadata": {
  "kernelspec": {
   "display_name": "Python 3",
   "language": "python",
   "name": "python3"
  },
  "language_info": {
   "codemirror_mode": {
    "name": "ipython",
    "version": 3
   },
   "file_extension": ".py",
   "mimetype": "text/x-python",
   "name": "python",
   "nbconvert_exporter": "python",
   "pygments_lexer": "ipython3",
   "version": "3.7.2"
  }
 },
 "nbformat": 4,
 "nbformat_minor": 2
}

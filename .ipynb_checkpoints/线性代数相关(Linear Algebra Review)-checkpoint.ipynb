{
 "cells": [
  {
   "cell_type": "markdown",
   "metadata": {},
   "source": [
    "# 1.矩阵(Matrix）\n",
    "<font size=5>\n",
    "    <br>1.0 维度就是列数（columns），在机器学习中有时候矩阵也写作R4x2\n",
    "</font>\n",
    "\n",
    "![title](8.PNG)\n",
    "\n",
    "<font size=5>\n",
    "    <br>2.0 矩阵元素的表示方法\n",
    "    \n",
    "</font>\n",
    "\n",
    "![title](9.PNG)\n",
    "\n",
    "<font size=5>\n",
    "    <br>3.0向量(vector)，如下图我们也称为4维列向量，用R4表示\n",
    "    \n",
    "</font>\n",
    "\n",
    "![title](10.PNG)\n",
    "\n",
    "<font size=5>\n",
    "    <br>4.0向量(vector)，的元素表示，元素索引有的从1开始，有的从0开始，如下图\n",
    "    \n",
    "</font>\n",
    "\n",
    "![title](11.PNG)\n"
   ]
  },
  {
   "cell_type": "markdown",
   "metadata": {},
   "source": [
    "# 2.矩阵的加法和标量相乘乘法(Additon and Scalar Multiplication) Scalar在这里表示实数\n",
    "<font size=5>\n",
    "    <br>1.0相同纬度的矩阵才能相加\n",
    "    \n",
    "</font>\n",
    "\n",
    "![title](12.PNG)\n",
    "\n",
    "<font size=5>\n",
    "    <br>2.0标量乘法，乘以所有元素\n",
    "    \n",
    "</font>\n",
    "\n",
    "![title](13.PNG)"
   ]
  },
  {
   "cell_type": "markdown",
   "metadata": {},
   "source": [
    "# 3.矩阵乘法(Matrix Vector Multiplication)\n",
    "<font size=5>\n",
    "    <br>1.0内标相同的矩阵才能相乘\n",
    "    \n",
    "</font>\n",
    "\n",
    "![title](14.PNG)\n",
    "\n",
    "<font size=5>\n",
    "    <br>2.0于是假设函数h和数据集就可用对应写成这样，一个数据矩阵X参数矩阵\n",
    "    \n",
    "</font>\n",
    "\n",
    "![title](15.PNG)\n"
   ]
  },
  {
   "cell_type": "markdown",
   "metadata": {},
   "source": [
    "# 4.矩阵乘法的属性（Matrix Multiplication Properties）\n",
    "<font size=5>\n",
    "    <br>1.0矩阵相乘没有交换律\n",
    "    <br>2.0矩阵乘法符合结合律\n",
    "</font>\n",
    "\n",
    "<font size=5>\n",
    "    <br>3.0单位矩阵I （identity matrix）\n",
    "    \n",
    "</font>\n",
    "\n",
    "![title](16.PNG)\n",
    "\n",
    "![title](17.PNG)\n",
    "\n",
    "<font size=5>\n",
    "    <br>4.0矩阵的逆（Inverse）（首先矩阵要为方的，并且它的行列式不为0才有逆矩阵，或者该矩阵满秩）\n",
    "    <br>以后就不再用手求逆矩阵了，直接用软件求\n",
    "    <br>没有逆矩阵的矩阵称为奇异矩阵或退化矩阵(Singular Matrix 或 Degenerate Matrix)\n",
    "</font>\n",
    "\n",
    "![title](18.PNG)\n",
    "\n",
    "![title](19.PNG)\n",
    "\n",
    "<font size=5>\n",
    "    <br>5.0转置(Transpose)\n",
    "    \n",
    "</font>\n",
    "\n",
    "![title](20.PNG)\n",
    "\n"
   ]
  }
 ],
 "metadata": {
  "kernelspec": {
   "display_name": "Python 3",
   "language": "python",
   "name": "python3"
  },
  "language_info": {
   "codemirror_mode": {
    "name": "ipython",
    "version": 3
   },
   "file_extension": ".py",
   "mimetype": "text/x-python",
   "name": "python",
   "nbconvert_exporter": "python",
   "pygments_lexer": "ipython3",
   "version": "3.7.2"
  }
 },
 "nbformat": 4,
 "nbformat_minor": 2
}

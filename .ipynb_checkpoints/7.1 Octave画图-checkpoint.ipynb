{
 "cells": [
  {
   "cell_type": "markdown",
   "metadata": {},
   "source": [
    "<font size=5><br>1.0其中的plot就是画图，hold on 就是画完图以后，另外一条线在上面叠加\n",
    "</font>\n",
    "\n",
    "![title](58.png)\n",
    "\n",
    "<font size=5><br>2.0 还可使用xlabel() ylabel() 添加描述\n",
    "</font>\n",
    "\n",
    "![title](59.png)\n",
    "\n",
    "<font size=5><br>3.0使用legend() 标记曲线，使用title()命名图片\n",
    "</font>\n",
    "\n",
    "![title](60.png)\n",
    "\n",
    "<font size=5>\n",
    "    <br>4.0保存图片\n",
    "</font>\n",
    "\n",
    "![title](61.png)\n",
    "\n",
    "<font size=5>\n",
    "    <br>5.0只要使用如下命令就可以画出两张图了\n",
    "</font>\n",
    "\n",
    "![title](62.png)\n",
    "\n",
    "<font size=5>\n",
    "    <br>6.0子图，把两张图画到一起，1，2，1 表示 一行两张图，使用第一张图，然后输入1，2，2就是使用第二张图\n",
    "</font>\n",
    "    \n",
    "![title](63.png)\n",
    "\n",
    "\n",
    "<font size=5>\n",
    "    <br>7.0改变刻度，axis可以改变x轴和y轴的刻度，前面是两个数是x轴范围，后面两个是y轴的范围\n",
    "</font>\n",
    "\n",
    "![title](64.png)\n",
    "\n",
    "<font size=5>\n",
    "    <br>8.0还可用这样一个特别的方法来可视化\n",
    "</font>\n",
    "\n",
    "![title](65.png)\n",
    "\n",
    "<font size=5>\n",
    "    <br>然后我们灰度化上面的图，在添加一个颜色刻度条\n",
    "</font>\n",
    "\n",
    "![title](66.png)\n",
    "    "
   ]
  }
 ],
 "metadata": {
  "kernelspec": {
   "display_name": "Python 3",
   "language": "python",
   "name": "python3"
  },
  "language_info": {
   "codemirror_mode": {
    "name": "ipython",
    "version": 3
   },
   "file_extension": ".py",
   "mimetype": "text/x-python",
   "name": "python",
   "nbconvert_exporter": "python",
   "pygments_lexer": "ipython3",
   "version": "3.7.2"
  }
 },
 "nbformat": 4,
 "nbformat_minor": 2
}

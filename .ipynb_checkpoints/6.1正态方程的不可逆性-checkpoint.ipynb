{
 "cells": [
  {
   "cell_type": "markdown",
   "metadata": {},
   "source": [
    "# 1.0若xTx不可逆\n",
    "<font size=5><br>1.0xTx不可逆的情况很少会发生，但是当你用Octave的pinv计算正态方程时，总是可以得到正确的答案。只要你使用pinv来计算θ，就算xTx不可逆，也能求出θ\n",
    "</font>\n",
    "\n",
    "![title](45.png)"
   ]
  },
  {
   "cell_type": "markdown",
   "metadata": {},
   "source": [
    "# 2.0xTx不可逆到底代表了什么\n",
    "<font size=5><br>1.0正如以下，如果你有两个特征，一个是英尺一个是平方米。这两个量之间是存在着线性关系的。\n",
    "          <br>x1=（3.28）平方x2。那么xTx一定时不可逆的，因为存在着线性关系(linearly dependent)\n",
    "          <br>2.0如果数据集中有m条训练数据，而特征有n个。此时 若m<=n，也就是未知数的个数比方程的个数多，那么未知数的取值一定时有线性关系的。那么我们可以删除一些特征，或者使用（regularization）迟点说\n",
    "                                                                                          <br>                                                                        <br>3.0因此如果你发现xTx不可逆，那么你可以根据以上两点，如果符合第一点，那么删除一个相关的特征使其可逆，要不然就按照第二点进行操作使其可逆。\n",
    "</font>\n",
    "\n",
    "\n",
    "![title](46.png)\n"
   ]
  }
 ],
 "metadata": {
  "kernelspec": {
   "display_name": "Python 3",
   "language": "python",
   "name": "python3"
  },
  "language_info": {
   "codemirror_mode": {
    "name": "ipython",
    "version": 3
   },
   "file_extension": ".py",
   "mimetype": "text/x-python",
   "name": "python",
   "nbconvert_exporter": "python",
   "pygments_lexer": "ipython3",
   "version": "3.7.2"
  }
 },
 "nbformat": 4,
 "nbformat_minor": 2
}

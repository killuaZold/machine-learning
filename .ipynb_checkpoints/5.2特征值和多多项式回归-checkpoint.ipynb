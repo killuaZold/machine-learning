{
 "cells": [
  {
   "cell_type": "markdown",
   "metadata": {},
   "source": [
    "# 1.如何选择合适的特征\n",
    "\n",
    "<font size=5><br>1.0首先特征的选取是随意的，如图中我们可以选取两个特征分别是临街宽度frontage，深度depth，但是我也可以把frontage*depth作为一个特征称为area来处理，这都是随意的。因此这只不过取决于你怎么看待问题\n",
    "</font>\n",
    "\n",
    "![title](32.png)"
   ]
  },
  {
   "cell_type": "markdown",
   "metadata": {},
   "source": [
    "# 2.多项式回归（ Polynomial Regression）\n",
    "<font size=5><br>1.0有时候你选择了几个特征后，画出图后，发现用一条线性函数并不能很好的拟合这些点，因此你可能换选择用一些二次多项式来拟合，如下。但是二次函数最终会下降回来。但我不认为，房子大到一定程度后，房价会下降这是不合理的\n",
    "</font>\n",
    "\n",
    "![title](33.png)\n",
    "\n",
    "<font size=5><br>2.0因此我们选择一个三次多项式来拟合，这样得到的函数不仅很好的拟合好，而且也比较合理，有时候也可以选择开根号，因此选择什么样的模型还是要具体问题具体分析\n",
    "</font>\n",
    "\n",
    "![title](34.png)\n",
    "\n",
    "![title](36.png)\n",
    "<font size=5><br>3.0那么如何把这样的数据拟合到线性回归中呢，只要把x1=size，x2=size平方，x3=size的三次方即可，注意这里更加要注意数据的归一化，因为经过了平方，三次方，他们的数据范围相差特别大，画出来的轮廓图会很扁\n",
    "</font>\n",
    "\n",
    "\n",
    "![title](35.png)"
   ]
  }
 ],
 "metadata": {
  "kernelspec": {
   "display_name": "Python 3",
   "language": "python",
   "name": "python3"
  },
  "language_info": {
   "codemirror_mode": {
    "name": "ipython",
    "version": 3
   },
   "file_extension": ".py",
   "mimetype": "text/x-python",
   "name": "python",
   "nbconvert_exporter": "python",
   "pygments_lexer": "ipython3",
   "version": "3.7.2"
  }
 },
 "nbformat": 4,
 "nbformat_minor": 2
}

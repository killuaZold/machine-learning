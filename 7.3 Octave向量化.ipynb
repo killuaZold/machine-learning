{
 "cells": [
  {
   "cell_type": "markdown",
   "metadata": {},
   "source": [
    "<font size=5>\n",
    "   <br>1.0 如下，当你计算θX的累加时，你可以使用向量化计算，也就是θ的转置乘以X，这样就不用迭代计算了，如下图还列出了迭代方法和非迭代方法\n",
    "</font>\n",
    "\n",
    "![title](81.png)\n",
    "\n",
    "\n",
    "<font size=5>\n",
    "   <br>2.0下面是一个更加复杂的例子，梯度下降算法更新θ。假设我们有三个θ，因此梯度下降需要同时更新θ如下图\n",
    "</font>\n",
    "\n",
    "![title](82.png)\n",
    "\n",
    "\n",
    "<font size=5>\n",
    "   <br>以上的更新算法应该如下，我们把所有的θ看成是一个向量θ=向量θ-αδ。这个δ也看成是一个向量。在关注到δ里首先前半部分（h-y）实际上是一个实数，而x[i]是一个向量n+1。因为我们从非向量的角度看，x0，x1，x2总是乘以同一个实数，因此可以写成一个实数乘以一个矩阵的形式。因此它就相当于u=2v+5w.每次用不同的（h-y）乘以向量X，这样就可以做到同时更新θ\n",
    "</font>\n",
    "\n",
    "\n",
    "![title](83.png)"
   ]
  }
 ],
 "metadata": {
  "kernelspec": {
   "display_name": "Python 3",
   "language": "python",
   "name": "python3"
  },
  "language_info": {
   "codemirror_mode": {
    "name": "ipython",
    "version": 3
   },
   "file_extension": ".py",
   "mimetype": "text/x-python",
   "name": "python",
   "nbconvert_exporter": "python",
   "pygments_lexer": "ipython3",
   "version": "3.7.2"
  }
 },
 "nbformat": 4,
 "nbformat_minor": 2
}

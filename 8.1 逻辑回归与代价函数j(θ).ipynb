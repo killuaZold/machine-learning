{
 "cells": [
  {
   "cell_type": "markdown",
   "metadata": {},
   "source": [
    "# 1.0 对比线性回归代价函数\n",
    "\n",
    "<font size=5><br>1.0首先这是一个监督学习，下面我们有m条训练集，h(θ)如下，设计矩阵也如下，答案集y是0或1的集合如下，让x0=1，该如何选择θ呢，\n",
    "</font>\n",
    "\n",
    "![title](117.png)\n",
    "\n",
    "<font size=5><br>2.0我们对比linear regression（线性回归）的代价函数，当我们把1/2之后的内容定义为cost()函数如下，在简化去掉上标。然后h(θ)代表了预测值，y代表了真实值。这个代价函数能够很好的适用代价函数。但是我们要谈论的是逻辑回归，如果强行使用这个代价函数到逻辑回归中，因为h(θ)不再是线性回归中的线性函数了，而是sigmoid函数，这个h(θ)在这里并非线性的(nonlinearity)，因此这样的代价函数不是convex（凸函数），会存在许多局部最低点\n",
    "</font>\n",
    "\n",
    "![title](118.png)\n",
    "\n",
    "\n",
    "# 2.0 逻辑回归代价函数\n",
    "\n",
    "<font size=5><br>3.0代价函数如下，如果训练集中y=1，代价函数的值就为-log(h(θ))，这个h(θ)=g（θTX），而当y=0时，就是-log(1-h(θ))。这看起来相当的复杂，但是我们画出这个函数图像。因为h(θ)的值介于0-1之间，而log在这里表示的是ln，而ln(X)的图像我们是知道的，-ln(X)就是相反数，X有介于0-1之间所有可以得出如下图。\n",
    "    <br>该图有这样的属性，因为下图是y=1的图，如果我们的假设函数h也输出1，可以看到costfunction的值为0.这也符合实际，也就是预测值和真实值没有差距。而当假设函数h输出0的时候，costfunction的值就是正无穷，正表明预测值与实际无穷远。这其实符合概率的描述h(θ)=P（y=1|X;θ）=0，而此时costfunction=无穷大。也就是在y=1的前提下，同输入X预测的结果是Y=0，也就是说预测不对此时要惩罚它，因此会有一个很大的值。也就是在确定了这个肿瘤时恶性的情况下y=1，我们预测算法告诉患者这个肿瘤绝对不是恶性的。事实上我们是错误的，所以要有一个很大的惩罚值告诉我们预测错了。这样我们在数据中就可以看到，已知y=1的情况下我们使用的h(θ)，其中选取了错误的θ值从而导致了这次预测与实现相差很大。因此我们选择θ的方法，也是找到一些θ使得costfunction的值最小，那么这个θ就是最符合的\n",
    "</font>\n",
    "\n",
    "![title](119.png)\n",
    "\n",
    "![title](120.png)\n",
    "\n",
    "\n",
    "\n",
    "<font size=5><br>4.0以下是y=0的情况\n",
    "</font>\n",
    "\n",
    "![title](122.png)\n",
    "\n",
    "\n",
    "# 3.0更简洁的代价函数\n",
    "\n",
    "<font size=5><br>1.0这个分段函数可以合并为一个如下\n",
    "         <br>cost(h(θ),y)=-ylog(h(θ))-（1-y）log(1-h(θ))\n",
    "</font>\n",
    "\n",
    "![title](123.png)\n",
    "\n",
    "\n",
    "<font size=5><br>2.0于是j(θ)函数可以输出如下，这里的h(θ)的值表示为预测y=1的概率,注意h(θ)=g(θTX)，而θTX为决策边界，这个θ的取法就要看梯度下降了\n",
    "</font>\n",
    "\n",
    "![title](124.png)\n",
    "\n",
    "\n",
    "\n",
    "# 4.0逻辑回归梯度下降"
   ]
  }
 ],
 "metadata": {
  "kernelspec": {
   "display_name": "Python 3",
   "language": "python",
   "name": "python3"
  },
  "language_info": {
   "codemirror_mode": {
    "name": "ipython",
    "version": 3
   },
   "file_extension": ".py",
   "mimetype": "text/x-python",
   "name": "python",
   "nbconvert_exporter": "python",
   "pygments_lexer": "ipython3",
   "version": "3.7.2"
  }
 },
 "nbformat": 4,
 "nbformat_minor": 2
}
